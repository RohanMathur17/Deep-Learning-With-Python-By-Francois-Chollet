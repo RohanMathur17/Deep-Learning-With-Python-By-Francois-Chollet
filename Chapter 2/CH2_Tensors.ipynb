{
  "nbformat": 4,
  "nbformat_minor": 0,
  "metadata": {
    "colab": {
      "name": "CH2_Tensors.ipynb",
      "provenance": [],
      "authorship_tag": "ABX9TyMZ8pDFMo/pSVo9QOnYfHtW",
      "include_colab_link": true
    },
    "kernelspec": {
      "name": "python3",
      "display_name": "Python 3"
    }
  },
  "cells": [
    {
      "cell_type": "markdown",
      "metadata": {
        "id": "view-in-github",
        "colab_type": "text"
      },
      "source": [
        "<a href=\"https://colab.research.google.com/github/RohanMathur17/Deep-Learning-With-Python-By-Francois-Chollet/blob/master/Chapter%202/CH2_Tensors.ipynb\" target=\"_parent\"><img src=\"https://colab.research.google.com/assets/colab-badge.svg\" alt=\"Open In Colab\"/></a>"
      ]
    },
    {
      "cell_type": "code",
      "metadata": {
        "id": "926r0mX8ypQG",
        "colab_type": "code",
        "colab": {
          "base_uri": "https://localhost:8080/",
          "height": 34
        },
        "outputId": "71318cfd-7679-42e4-bfa9-3250132dd320"
      },
      "source": [
        "import numpy as np\n",
        "x = np.array([1 , 2 , 32 , 34])\n",
        "x.ndim # 1D tensor"
      ],
      "execution_count": 1,
      "outputs": [
        {
          "output_type": "execute_result",
          "data": {
            "text/plain": [
              "1"
            ]
          },
          "metadata": {
            "tags": []
          },
          "execution_count": 1
        }
      ]
    },
    {
      "cell_type": "code",
      "metadata": {
        "id": "DUwReFXKzHwu",
        "colab_type": "code",
        "colab": {}
      },
      "source": [
        "#Dimensionality can denote either the number of entries along a specific axis (as in the case of our 5D vector) or the number of axes in a tensor (such as a\n",
        "#5D tensor), which can be confusing at times. "
      ],
      "execution_count": 2,
      "outputs": []
    },
    {
      "cell_type": "code",
      "metadata": {
        "id": "r5NHshxnzpYE",
        "colab_type": "code",
        "colab": {
          "base_uri": "https://localhost:8080/",
          "height": 34
        },
        "outputId": "c74b8335-ad1b-4bdd-8ed7-9b2d522f7738"
      },
      "source": [
        "y = np.array([ [14 , 12],\n",
        "              [14 , 35]])\n",
        "y.ndim  #2D tensor"
      ],
      "execution_count": 3,
      "outputs": [
        {
          "output_type": "execute_result",
          "data": {
            "text/plain": [
              "2"
            ]
          },
          "metadata": {
            "tags": []
          },
          "execution_count": 3
        }
      ]
    },
    {
      "cell_type": "code",
      "metadata": {
        "id": "OLoYuhZFzxHZ",
        "colab_type": "code",
        "colab": {
          "base_uri": "https://localhost:8080/",
          "height": 50
        },
        "outputId": "48042fcf-92c0-41bc-8226-5ce827233565"
      },
      "source": [
        "from keras.datasets import mnist\n",
        "\n",
        "(train_images, train_labels), (test_images, test_labels) = mnist.load_data()"
      ],
      "execution_count": 4,
      "outputs": [
        {
          "output_type": "stream",
          "text": [
            "Downloading data from https://storage.googleapis.com/tensorflow/tf-keras-datasets/mnist.npz\n",
            "11493376/11490434 [==============================] - 0s 0us/step\n"
          ],
          "name": "stdout"
        }
      ]
    },
    {
      "cell_type": "code",
      "metadata": {
        "id": "mGGaw_uV0ZMD",
        "colab_type": "code",
        "colab": {
          "base_uri": "https://localhost:8080/",
          "height": 34
        },
        "outputId": "a50af8ad-e4fa-4d78-b71a-632829224bf1"
      },
      "source": [
        "print(train_images.ndim)"
      ],
      "execution_count": 5,
      "outputs": [
        {
          "output_type": "stream",
          "text": [
            "3\n"
          ],
          "name": "stdout"
        }
      ]
    },
    {
      "cell_type": "code",
      "metadata": {
        "id": "e1nWvz_l0c5n",
        "colab_type": "code",
        "colab": {
          "base_uri": "https://localhost:8080/",
          "height": 34
        },
        "outputId": "15976664-884c-4bbf-c7c1-cd22fb3d0dfe"
      },
      "source": [
        "print(train_images.shape)"
      ],
      "execution_count": 6,
      "outputs": [
        {
          "output_type": "stream",
          "text": [
            "(60000, 28, 28)\n"
          ],
          "name": "stdout"
        }
      ]
    },
    {
      "cell_type": "code",
      "metadata": {
        "id": "UgKHc7k00mjT",
        "colab_type": "code",
        "colab": {
          "base_uri": "https://localhost:8080/",
          "height": 265
        },
        "outputId": "e683a525-4233-4f8c-a3ed-a42c58c91b8f"
      },
      "source": [
        "digit = train_images[5] #Sample \n",
        "\n",
        "import matplotlib.pyplot as plt\n",
        "\n",
        "plt.imshow(digit, cmap=plt.cm.binary)\n",
        "plt.show()"
      ],
      "execution_count": 7,
      "outputs": [
        {
          "output_type": "display_data",
          "data": {
            "image/png": "[encoded data removed]",
            "text/plain": [
              "<Figure size 432x288 with 1 Axes>"
            ]
          },
          "metadata": {
            "tags": [],
            "needs_background": "light"
          }
        }
      ]
    },
    {
      "cell_type": "code",
      "metadata": {
        "id": "s9bwTWxR02_H",
        "colab_type": "code",
        "colab": {
          "base_uri": "https://localhost:8080/",
          "height": 34
        },
        "outputId": "85f90d75-e280-4087-c28a-fd327662ab7e"
      },
      "source": [
        "my_slice = train_images[10:100 , : , :]\n",
        "my_slice.shape"
      ],
      "execution_count": 8,
      "outputs": [
        {
          "output_type": "execute_result",
          "data": {
            "text/plain": [
              "(90, 28, 28)"
            ]
          },
          "metadata": {
            "tags": []
          },
          "execution_count": 8
        }
      ]
    },
    {
      "cell_type": "code",
      "metadata": {
        "id": "3nKP4SxH1R5w",
        "colab_type": "code",
        "colab": {
          "base_uri": "https://localhost:8080/",
          "height": 1000
        },
        "outputId": "76a5224c-c8c0-4b50-f13c-178b13eadf39"
      },
      "source": [
        "x = np.random.random((64, 3, 32, 10))\n",
        "y = np.random.random((32, 10))\n",
        "z = np.maximum(x, y) \n",
        "z"
      ],
      "execution_count": 10,
      "outputs": [
        {
          "output_type": "execute_result",
          "data": {
            "text/plain": [
              "array([[[[0.88997061, 0.92444778, 0.22466279, ..., 0.69988726,\n",
              "          0.91897562, 0.85860114],\n",
              "         [0.55912327, 0.81510238, 0.83948005, ..., 0.95530517,\n",
              "          0.68434404, 0.96076668],\n",
              "         [0.86162841, 0.99613176, 0.4799092 , ..., 0.6657944 ,\n",
              "          0.26492163, 0.43765257],\n",
              "         ...,\n",
              "         [0.74325553, 0.41010127, 0.69660915, ..., 0.36357799,\n",
              "          0.45310708, 0.60656283],\n",
              "         [0.8712315 , 0.44178326, 0.84118685, ..., 0.57736667,\n",
              "          0.7534028 , 0.91278475],\n",
              "         [0.87558942, 0.51055592, 0.48614013, ..., 0.87156179,\n",
              "          0.63536454, 0.55130985]],\n",
              "\n",
              "        [[0.5167568 , 0.92444778, 0.33506522, ..., 0.69988726,\n",
              "          0.91897562, 0.85860114],\n",
              "         [0.5413381 , 0.96721799, 0.77962881, ..., 0.95530517,\n",
              "          0.93552868, 0.15998892],\n",
              "         [0.86162841, 0.99613176, 0.88961163, ..., 0.47856934,\n",
              "          0.438805  , 0.93655266],\n",
              "         ...,\n",
              "         [0.74325553, 0.60520195, 0.33380613, ..., 0.20292678,\n",
              "          0.39244972, 0.60656283],\n",
              "         [0.97790334, 0.4519501 , 0.84118685, ..., 0.77431151,\n",
              "          0.7534028 , 0.57878769],\n",
              "         [0.87558942, 0.57873091, 0.94783804, ..., 0.9784924 ,\n",
              "          0.63536454, 0.6717925 ]],\n",
              "\n",
              "        [[0.85943618, 0.92444778, 0.07734916, ..., 0.69988726,\n",
              "          0.91897562, 0.85860114],\n",
              "         [0.97497088, 0.72592385, 0.77962881, ..., 0.95530517,\n",
              "          0.61276442, 0.74565404],\n",
              "         [0.86162841, 0.99613176, 0.34368297, ..., 0.90198617,\n",
              "          0.94728857, 0.57514468],\n",
              "         ...,\n",
              "         [0.74325553, 0.92469109, 0.56942754, ..., 0.89309823,\n",
              "          0.57299028, 0.60656283],\n",
              "         [0.96614292, 0.4121833 , 0.84118685, ..., 0.25435827,\n",
              "          0.7534028 , 0.65039125],\n",
              "         [0.87558942, 0.69801216, 0.49280991, ..., 0.87156179,\n",
              "          0.63536454, 0.55130985]]],\n",
              "\n",
              "\n",
              "       [[[0.5831267 , 0.94078909, 0.33014896, ..., 0.69988726,\n",
              "          0.91897562, 0.90000595],\n",
              "         [0.9081311 , 0.8483229 , 0.77962881, ..., 0.95530517,\n",
              "          0.69076121, 0.90517659],\n",
              "         [0.86162841, 0.99613176, 0.82821925, ..., 0.67983619,\n",
              "          0.98045623, 0.43765257],\n",
              "         ...,\n",
              "         [0.85908017, 0.477354  , 0.50366679, ..., 0.99522354,\n",
              "          0.40899297, 0.99390002],\n",
              "         [0.8712315 , 0.43672444, 0.84118685, ..., 0.72964907,\n",
              "          0.7534028 , 0.57878769],\n",
              "         [0.87558942, 0.50610347, 0.48614013, ..., 0.87156179,\n",
              "          0.63536454, 0.92678237]],\n",
              "\n",
              "        [[0.78669002, 0.92444778, 0.965094  , ..., 0.69988726,\n",
              "          0.91897562, 0.85860114],\n",
              "         [0.49507569, 0.5284131 , 0.77962881, ..., 0.95530517,\n",
              "          0.6422496 , 0.14890515],\n",
              "         [0.88710049, 0.99613176, 0.84586592, ..., 0.47856934,\n",
              "          0.31598097, 0.43765257],\n",
              "         ...,\n",
              "         [0.74325553, 0.41010127, 0.33380613, ..., 0.47880768,\n",
              "          0.90504397, 0.8618331 ],\n",
              "         [0.8712315 , 0.44389519, 0.84118685, ..., 0.25435827,\n",
              "          0.7534028 , 0.57878769],\n",
              "         [0.87558942, 0.2312613 , 0.48614013, ..., 0.87156179,\n",
              "          0.63536454, 0.55130985]],\n",
              "\n",
              "        [[0.7284196 , 0.92444778, 0.69950448, ..., 0.7454751 ,\n",
              "          0.91897562, 0.85860114],\n",
              "         [0.49507569, 0.24548339, 0.94776135, ..., 0.95530517,\n",
              "          0.8554526 , 0.14890515],\n",
              "         [0.86162841, 0.99613176, 0.84886568, ..., 0.47856934,\n",
              "          0.29174174, 0.59686099],\n",
              "         ...,\n",
              "         [0.74325553, 0.54000082, 0.58222656, ..., 0.27829026,\n",
              "          0.40221559, 0.60656283],\n",
              "         [0.99920272, 0.47474243, 0.84118685, ..., 0.38271257,\n",
              "          0.7534028 , 0.61988788],\n",
              "         [0.87558942, 0.4998306 , 0.48614013, ..., 0.87156179,\n",
              "          0.94802456, 0.71243354]]],\n",
              "\n",
              "\n",
              "       [[[0.79007099, 0.98846519, 0.90788698, ..., 0.90348221,\n",
              "          0.91897562, 0.85860114],\n",
              "         [0.63008237, 0.9626962 , 0.77962881, ..., 0.95530517,\n",
              "          0.84677949, 0.24094212],\n",
              "         [0.91402717, 0.99613176, 0.67897667, ..., 0.94235201,\n",
              "          0.86605468, 0.43765257],\n",
              "         ...,\n",
              "         [0.74325553, 0.9330132 , 0.57633107, ..., 0.70524837,\n",
              "          0.60524015, 0.60656283],\n",
              "         [0.8712315 , 0.79320407, 0.84118685, ..., 0.49005692,\n",
              "          0.7534028 , 0.57878769],\n",
              "         [0.87558942, 0.2312613 , 0.67489109, ..., 0.87156179,\n",
              "          0.63536454, 0.6592445 ]],\n",
              "\n",
              "        [[0.5167568 , 0.92444778, 0.67994799, ..., 0.81021261,\n",
              "          0.91897562, 0.85860114],\n",
              "         [0.49507569, 0.24548339, 0.84788271, ..., 0.95530517,\n",
              "          0.42299142, 0.80588073],\n",
              "         [0.86162841, 0.99613176, 0.51663204, ..., 0.47856934,\n",
              "          0.39845465, 0.43765257],\n",
              "         ...,\n",
              "         [0.74325553, 0.41010127, 0.48310481, ..., 0.67019718,\n",
              "          0.79672563, 0.99082768],\n",
              "         [0.8712315 , 0.63435281, 0.86153484, ..., 0.67469804,\n",
              "          0.7534028 , 0.57878769],\n",
              "         [0.87558942, 0.2312613 , 0.65946572, ..., 0.87156179,\n",
              "          0.65635879, 0.64761211]],\n",
              "\n",
              "        [[0.74153862, 0.92444778, 0.93238812, ..., 0.69988726,\n",
              "          0.91897562, 0.85860114],\n",
              "         [0.49507569, 0.50260959, 0.77962881, ..., 0.95530517,\n",
              "          0.6983206 , 0.77367945],\n",
              "         [0.86162841, 0.99613176, 0.95883201, ..., 0.47856934,\n",
              "          0.30275901, 0.43765257],\n",
              "         ...,\n",
              "         [0.74325553, 0.81913277, 0.4604635 , ..., 0.79220699,\n",
              "          0.36471414, 0.6574876 ],\n",
              "         [0.8712315 , 0.74439311, 0.91175078, ..., 0.44476852,\n",
              "          0.87556671, 0.57878769],\n",
              "         [0.87558942, 0.50453119, 0.48614013, ..., 0.96707725,\n",
              "          0.69682885, 0.97437029]]],\n",
              "\n",
              "\n",
              "       ...,\n",
              "\n",
              "\n",
              "       [[[0.5167568 , 0.92444778, 0.62444954, ..., 0.69988726,\n",
              "          0.91897562, 0.85860114],\n",
              "         [0.49507569, 0.26266736, 0.77962881, ..., 0.95530517,\n",
              "          0.42299142, 0.37454124],\n",
              "         [0.86162841, 0.99613176, 0.98581031, ..., 0.9056288 ,\n",
              "          0.48903525, 0.85520766],\n",
              "         ...,\n",
              "         [0.98838998, 0.92420626, 0.53690543, ..., 0.75739502,\n",
              "          0.36689385, 0.60656283],\n",
              "         [0.8712315 , 0.4121833 , 0.90085013, ..., 0.86770395,\n",
              "          0.7534028 , 0.57878769],\n",
              "         [0.87558942, 0.65122267, 0.92148678, ..., 0.87156179,\n",
              "          0.63536454, 0.55130985]],\n",
              "\n",
              "        [[0.5167568 , 0.92444778, 0.04929462, ..., 0.69988726,\n",
              "          0.91897562, 0.85860114],\n",
              "         [0.49507569, 0.24548339, 0.77962881, ..., 0.95530517,\n",
              "          0.54978561, 0.91496851],\n",
              "         [0.86162841, 0.99613176, 0.2573309 , ..., 0.47856934,\n",
              "          0.82277281, 0.61864987],\n",
              "         ...,\n",
              "         [0.74325553, 0.76809612, 0.33380613, ..., 0.55420352,\n",
              "          0.36471414, 0.60656283],\n",
              "         [0.8712315 , 0.53952625, 0.90166945, ..., 0.25435827,\n",
              "          0.7534028 , 0.77246029],\n",
              "         [0.87558942, 0.35862263, 0.62979125, ..., 0.87156179,\n",
              "          0.63536454, 0.79073059]],\n",
              "\n",
              "        [[0.5167568 , 0.92444778, 0.83488895, ..., 0.69988726,\n",
              "          0.91897562, 0.85860114],\n",
              "         [0.49507569, 0.74918116, 0.77962881, ..., 0.95530517,\n",
              "          0.69812385, 0.3095938 ],\n",
              "         [0.86162841, 0.99613176, 0.2670175 , ..., 0.47856934,\n",
              "          0.47630139, 0.43765257],\n",
              "         ...,\n",
              "         [0.74325553, 0.41010127, 0.78300007, ..., 0.77787669,\n",
              "          0.36471414, 0.60656283],\n",
              "         [0.96478195, 0.50537053, 0.84118685, ..., 0.25435827,\n",
              "          0.78569386, 0.84490598],\n",
              "         [0.87558942, 0.42128083, 0.48614013, ..., 0.87156179,\n",
              "          0.73988056, 0.55130985]]],\n",
              "\n",
              "\n",
              "       [[[0.72581559, 0.92444778, 0.54129902, ..., 0.70338379,\n",
              "          0.91897562, 0.85860114],\n",
              "         [0.49507569, 0.24548339, 0.77962881, ..., 0.95530517,\n",
              "          0.91429096, 0.52000422],\n",
              "         [0.86162841, 0.99613176, 0.2573309 , ..., 0.67130007,\n",
              "          0.26492163, 0.4459287 ],\n",
              "         ...,\n",
              "         [0.97917953, 0.41186647, 0.34337229, ..., 0.2896485 ,\n",
              "          0.6729812 , 0.60656283],\n",
              "         [0.8712315 , 0.51405682, 0.84118685, ..., 0.25435827,\n",
              "          0.95892554, 0.57878769],\n",
              "         [0.8776935 , 0.2312613 , 0.48614013, ..., 0.87156179,\n",
              "          0.63536454, 0.55130985]],\n",
              "\n",
              "        [[0.5167568 , 0.92444778, 0.69942596, ..., 0.69988726,\n",
              "          0.91897562, 0.85860114],\n",
              "         [0.84985083, 0.24548339, 0.77962881, ..., 0.95530517,\n",
              "          0.42299142, 0.75991978],\n",
              "         [0.86162841, 0.99613176, 0.45751503, ..., 0.55043521,\n",
              "          0.26492163, 0.48157266],\n",
              "         ...,\n",
              "         [0.74325553, 0.86501051, 0.84123573, ..., 0.26862666,\n",
              "          0.4132136 , 0.60656283],\n",
              "         [0.8712315 , 0.61874008, 0.84118685, ..., 0.25435827,\n",
              "          0.7534028 , 0.81247568],\n",
              "         [0.87558942, 0.77489025, 0.48614013, ..., 0.97465059,\n",
              "          0.71401191, 0.72287752]],\n",
              "\n",
              "        [[0.65536166, 0.92444778, 0.66214728, ..., 0.69988726,\n",
              "          0.91897562, 0.94334747],\n",
              "         [0.87127078, 0.53360975, 0.8103149 , ..., 0.95530517,\n",
              "          0.42299142, 0.55614203],\n",
              "         [0.94868829, 0.99613176, 0.2573309 , ..., 0.97558374,\n",
              "          0.68461497, 0.43765257],\n",
              "         ...,\n",
              "         [0.74325553, 0.45725363, 0.43043213, ..., 0.54071109,\n",
              "          0.45491568, 0.60656283],\n",
              "         [0.8712315 , 0.4121833 , 0.84118685, ..., 0.83809543,\n",
              "          0.7534028 , 0.57878769],\n",
              "         [0.87558942, 0.7667954 , 0.48614013, ..., 0.87156179,\n",
              "          0.7529287 , 0.55130985]]],\n",
              "\n",
              "\n",
              "       [[[0.5167568 , 0.92444778, 0.6536109 , ..., 0.69988726,\n",
              "          0.91897562, 0.85860114],\n",
              "         [0.49507569, 0.37357038, 0.77962881, ..., 0.95530517,\n",
              "          0.42299142, 0.63235091],\n",
              "         [0.86162841, 0.99613176, 0.2573309 , ..., 0.47856934,\n",
              "          0.26492163, 0.50090643],\n",
              "         ...,\n",
              "         [0.74325553, 0.41010127, 0.98444223, ..., 0.20292678,\n",
              "          0.69854585, 0.60656283],\n",
              "         [0.8712315 , 0.4121833 , 0.84118685, ..., 0.25435827,\n",
              "          0.7534028 , 0.61946029],\n",
              "         [0.87558942, 0.25865529, 0.99273122, ..., 0.96697603,\n",
              "          0.8659061 , 0.73879335]],\n",
              "\n",
              "        [[0.5167568 , 0.92444778, 0.12018735, ..., 0.92797698,\n",
              "          0.91897562, 0.89542196],\n",
              "         [0.49507569, 0.24548339, 0.77962881, ..., 0.95530517,\n",
              "          0.79270046, 0.54702193],\n",
              "         [0.86162841, 0.99613176, 0.4483693 , ..., 0.47856934,\n",
              "          0.52496033, 0.63108243],\n",
              "         ...,\n",
              "         [0.7866287 , 0.56659522, 0.33380613, ..., 0.51474806,\n",
              "          0.36471414, 0.60656283],\n",
              "         [0.8712315 , 0.92987879, 0.84118685, ..., 0.85591319,\n",
              "          0.9839312 , 0.93843859],\n",
              "         [0.87558942, 0.2312613 , 0.78580134, ..., 0.87156179,\n",
              "          0.63536454, 0.55130985]],\n",
              "\n",
              "        [[0.5167568 , 0.92444778, 0.5205627 , ..., 0.93798953,\n",
              "          0.91897562, 0.85860114],\n",
              "         [0.49507569, 0.39924893, 0.77962881, ..., 0.95530517,\n",
              "          0.42299142, 0.44429862],\n",
              "         [0.86162841, 0.99613176, 0.2573309 , ..., 0.89970296,\n",
              "          0.26492163, 0.43765257],\n",
              "         ...,\n",
              "         [0.89056533, 0.5765403 , 0.45037638, ..., 0.62854125,\n",
              "          0.49399459, 0.84025201],\n",
              "         [0.8712315 , 0.4121833 , 0.88610806, ..., 0.25435827,\n",
              "          0.7534028 , 0.66069586],\n",
              "         [0.87558942, 0.51679034, 0.48614013, ..., 0.92563453,\n",
              "          0.79961205, 0.67827256]]]])"
            ]
          },
          "metadata": {
            "tags": []
          },
          "execution_count": 10
        }
      ]
    },
    {
      "cell_type": "code",
      "metadata": {
        "id": "uWeq5nfuGSCB",
        "colab_type": "code",
        "colab": {
          "base_uri": "https://localhost:8080/",
          "height": 34
        },
        "outputId": "ec54110d-a65c-4f27-f847-f70f1bf4649d"
      },
      "source": [
        "#Reshaping\n",
        "x = np.array([[0., 1.],\n",
        "              [2., 3.],\n",
        "              [4., 5.]])\n",
        "\n",
        "x.shape"
      ],
      "execution_count": 22,
      "outputs": [
        {
          "output_type": "execute_result",
          "data": {
            "text/plain": [
              "(3, 2)"
            ]
          },
          "metadata": {
            "tags": []
          },
          "execution_count": 22
        }
      ]
    },
    {
      "cell_type": "code",
      "metadata": {
        "id": "U15afYz3GxQJ",
        "colab_type": "code",
        "colab": {
          "base_uri": "https://localhost:8080/",
          "height": 50
        },
        "outputId": "0dfb464a-e5dd-4199-abd9-c36aa9fcb27c"
      },
      "source": [
        "x.reshape(2, 3)"
      ],
      "execution_count": 20,
      "outputs": [
        {
          "output_type": "execute_result",
          "data": {
            "text/plain": [
              "array([[0., 1., 2.],\n",
              "       [3., 4., 5.]])"
            ]
          },
          "metadata": {
            "tags": []
          },
          "execution_count": 20
        }
      ]
    },
    {
      "cell_type": "code",
      "metadata": {
        "id": "GGPUjN5gJPX2",
        "colab_type": "code",
        "colab": {
          "base_uri": "https://localhost:8080/",
          "height": 50
        },
        "outputId": "e6d0ee78-8de4-4ff8-fb8b-513b6f5bce5d"
      },
      "source": [
        "x_transpose = np.transpose(x)\n",
        "x_transpose"
      ],
      "execution_count": 23,
      "outputs": [
        {
          "output_type": "execute_result",
          "data": {
            "text/plain": [
              "array([[0., 2., 4.],\n",
              "       [1., 3., 5.]])"
            ]
          },
          "metadata": {
            "tags": []
          },
          "execution_count": 23
        }
      ]
    },
    {
      "cell_type": "code",
      "metadata": {
        "id": "En71iEkUJ0Gk",
        "colab_type": "code",
        "colab": {}
      },
      "source": [
        ""
      ],
      "execution_count": null,
      "outputs": []
    }
  ]
}