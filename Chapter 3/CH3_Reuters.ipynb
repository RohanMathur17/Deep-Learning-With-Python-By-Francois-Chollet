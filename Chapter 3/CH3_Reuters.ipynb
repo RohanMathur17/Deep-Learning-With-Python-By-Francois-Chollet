{
  "nbformat": 4,
  "nbformat_minor": 0,
  "metadata": {
    "colab": {
      "name": "CH3_Reuters.ipynb",
      "provenance": [],
      "collapsed_sections": [],
      "authorship_tag": "ABX9TyPmA9X+jTrmfOUTvJb1Jleg",
      "include_colab_link": true
    },
    "kernelspec": {
      "name": "python3",
      "display_name": "Python 3"
    }
  },
  "cells": [
    {
      "cell_type": "markdown",
      "metadata": {
        "id": "view-in-github",
        "colab_type": "text"
      },
      "source": [
        "<a href=\"https://colab.research.google.com/github/RohanMathur17/Deep-Learning-With-Python-By-Francois-Chollet/blob/master/Chapter%203/CH3_Reuters.ipynb\" target=\"_parent\"><img src=\"https://colab.research.google.com/assets/colab-badge.svg\" alt=\"Open In Colab\"/></a>"
      ]
    },
    {
      "cell_type": "markdown",
      "metadata": {
        "id": "jCz0SuMaFWrR",
        "colab_type": "text"
      },
      "source": [
        "\n",
        "## **Classifying Newswires: Multiclass Classification Example**\n",
        "\n"
      ]
    },
    {
      "cell_type": "code",
      "metadata": {
        "id": "bFbP_YVbFKo9",
        "colab_type": "code",
        "colab": {
          "base_uri": "https://localhost:8080/",
          "height": 50
        },
        "outputId": "e1b50646-e1a7-42da-b1a2-709b5e00a076"
      },
      "source": [
        "from keras.datasets import reuters\n",
        "\n",
        "(train_data , train_labels), (test_data , test_labels) = reuters.load_data(num_words = 10000)"
      ],
      "execution_count": null,
      "outputs": [
        {
          "output_type": "stream",
          "text": [
            "Downloading data from https://storage.googleapis.com/tensorflow/tf-keras-datasets/reuters.npz\n",
            "2113536/2110848 [==============================] - 0s 0us/step\n"
          ],
          "name": "stdout"
        }
      ]
    },
    {
      "cell_type": "code",
      "metadata": {
        "id": "uoFxpR-VGW-j",
        "colab_type": "code",
        "colab": {
          "base_uri": "https://localhost:8080/",
          "height": 50
        },
        "outputId": "c86affbc-b0b7-468e-8b33-bc58560fb600"
      },
      "source": [
        "print(len(train_data))\n",
        "print(len(test_data))"
      ],
      "execution_count": null,
      "outputs": [
        {
          "output_type": "stream",
          "text": [
            "8982\n",
            "2246\n"
          ],
          "name": "stdout"
        }
      ]
    },
    {
      "cell_type": "code",
      "metadata": {
        "id": "E7JMlJOVGrsv",
        "colab_type": "code",
        "colab": {
          "base_uri": "https://localhost:8080/",
          "height": 34
        },
        "outputId": "1fae2c70-dcc5-4b6b-e668-8e3a57c771c6"
      },
      "source": [
        "max([max(sequence) for sequence in train_data])"
      ],
      "execution_count": null,
      "outputs": [
        {
          "output_type": "execute_result",
          "data": {
            "text/plain": [
              "9999"
            ]
          },
          "metadata": {
            "tags": []
          },
          "execution_count": 5
        }
      ]
    },
    {
      "cell_type": "code",
      "metadata": {
        "id": "ciMCcBSCHFtB",
        "colab_type": "code",
        "colab": {}
      },
      "source": [
        "#PREPARING THE DATA\n",
        "import numpy as np\n",
        "\n",
        "def vectorize_sequences(sequences, dimension=10000):\n",
        "\n",
        "    results = np.zeros((len(sequences), dimension))\n",
        "    for i, sequence in enumerate(sequences):\n",
        "\n",
        "        results[i, sequence] = 1.\n",
        "    \n",
        "    return results\n",
        "    \n",
        "x_train = vectorize_sequences(train_data)\n",
        "x_test = vectorize_sequences(test_data)"
      ],
      "execution_count": null,
      "outputs": []
    },
    {
      "cell_type": "code",
      "metadata": {
        "id": "3WD8PPOEHfIE",
        "colab_type": "code",
        "colab": {}
      },
      "source": [
        "#One - hot encoding for labels\n",
        "\n",
        "def to_one_hot(labels, dimension=46):\n",
        "\n",
        "    results = np.zeros((len(labels), dimension))\n",
        "    for i, label in enumerate(labels):\n",
        "        \n",
        "        results[i, label] = 1.\n",
        "    \n",
        "    return results\n",
        "    \n",
        "one_hot_train_labels = to_one_hot(train_labels)\n",
        "one_hot_test_labels = to_one_hot(test_labels)"
      ],
      "execution_count": null,
      "outputs": []
    },
    {
      "cell_type": "code",
      "metadata": {
        "id": "IB5dz7aeIFFI",
        "colab_type": "code",
        "colab": {}
      },
      "source": [
        "#BUILT - IN WAY OF CATEGORICAL ENCODING\n",
        "\n",
        "#from keras.utils.np_utils import to_categorical\n",
        "\n",
        "#one_hot_train_labels = to_categorical(train_labels)\n",
        "#one_hot_test_labels = to_categorical(test_labels)"
      ],
      "execution_count": null,
      "outputs": []
    },
    {
      "cell_type": "code",
      "metadata": {
        "id": "RVz90vH-IW9f",
        "colab_type": "code",
        "colab": {}
      },
      "source": [
        "from keras import models\n",
        "from keras import layers\n",
        "\n",
        "model = models.Sequential()\n",
        "\n",
        "model.add(layers.Dense(64, activation='relu', input_shape=(10000,)))\n",
        "model.add(layers.Dense(64, activation='relu'))\n",
        "model.add(layers.Dense(46, activation='softmax'))   #46 because we are classifying into 46 different classes , instead of just 2 "
      ],
      "execution_count": null,
      "outputs": []
    },
    {
      "cell_type": "code",
      "metadata": {
        "id": "6ZJHtxVSI_I7",
        "colab_type": "code",
        "colab": {}
      },
      "source": [
        "#Compiling your model\n",
        "\n",
        "model.compile(optimizer='rmsprop', loss='categorical_crossentropy', metrics=['accuracy'])  "
      ],
      "execution_count": null,
      "outputs": []
    },
    {
      "cell_type": "code",
      "metadata": {
        "id": "xHEe12oNJTw1",
        "colab_type": "code",
        "colab": {}
      },
      "source": [
        "#Validating your dataset\n",
        "\n",
        "x_val = x_train[:1000]\n",
        "partial_x_train = x_train[1000:]\n",
        "\n",
        "y_val = one_hot_train_labels[:1000]\n",
        "partial_y_train = one_hot_train_labels[1000:]"
      ],
      "execution_count": null,
      "outputs": []
    },
    {
      "cell_type": "code",
      "metadata": {
        "id": "vxotpe-BJhjd",
        "colab_type": "code",
        "colab": {
          "base_uri": "https://localhost:8080/",
          "height": 689
        },
        "outputId": "8453e29a-d9e1-4db5-deae-a102c856be3c"
      },
      "source": [
        "history = model.fit(partial_x_train, partial_y_train, epochs=20, batch_size=512, validation_data=(x_val, y_val))"
      ],
      "execution_count": null,
      "outputs": [
        {
          "output_type": "stream",
          "text": [
            "Epoch 1/20\n",
            "16/16 [==============================] - 1s 54ms/step - loss: 2.6152 - accuracy: 0.5246 - val_loss: 1.7068 - val_accuracy: 0.6330\n",
            "Epoch 2/20\n",
            "16/16 [==============================] - 1s 42ms/step - loss: 1.4350 - accuracy: 0.6968 - val_loss: 1.3427 - val_accuracy: 0.7010\n",
            "Epoch 3/20\n",
            "16/16 [==============================] - 1s 44ms/step - loss: 1.0844 - accuracy: 0.7696 - val_loss: 1.1702 - val_accuracy: 0.7550\n",
            "Epoch 4/20\n",
            "16/16 [==============================] - 1s 42ms/step - loss: 0.8627 - accuracy: 0.8172 - val_loss: 1.0910 - val_accuracy: 0.7560\n",
            "Epoch 5/20\n",
            "16/16 [==============================] - 1s 42ms/step - loss: 0.6922 - accuracy: 0.8550 - val_loss: 1.0142 - val_accuracy: 0.7740\n",
            "Epoch 6/20\n",
            "16/16 [==============================] - 1s 42ms/step - loss: 0.5565 - accuracy: 0.8866 - val_loss: 0.9519 - val_accuracy: 0.7950\n",
            "Epoch 7/20\n",
            "16/16 [==============================] - 1s 42ms/step - loss: 0.4464 - accuracy: 0.9110 - val_loss: 0.9447 - val_accuracy: 0.7980\n",
            "Epoch 8/20\n",
            "16/16 [==============================] - 1s 42ms/step - loss: 0.3649 - accuracy: 0.9223 - val_loss: 0.9462 - val_accuracy: 0.8030\n",
            "Epoch 9/20\n",
            "16/16 [==============================] - 1s 42ms/step - loss: 0.3024 - accuracy: 0.9351 - val_loss: 0.9042 - val_accuracy: 0.8150\n",
            "Epoch 10/20\n",
            "16/16 [==============================] - 1s 42ms/step - loss: 0.2563 - accuracy: 0.9441 - val_loss: 0.9152 - val_accuracy: 0.8100\n",
            "Epoch 11/20\n",
            "16/16 [==============================] - 1s 41ms/step - loss: 0.2160 - accuracy: 0.9490 - val_loss: 0.9219 - val_accuracy: 0.8180\n",
            "Epoch 12/20\n",
            "16/16 [==============================] - 1s 41ms/step - loss: 0.1877 - accuracy: 0.9519 - val_loss: 0.9544 - val_accuracy: 0.8050\n",
            "Epoch 13/20\n",
            "16/16 [==============================] - 1s 43ms/step - loss: 0.1728 - accuracy: 0.9518 - val_loss: 0.9448 - val_accuracy: 0.8130\n",
            "Epoch 14/20\n",
            "16/16 [==============================] - 1s 42ms/step - loss: 0.1565 - accuracy: 0.9543 - val_loss: 1.0067 - val_accuracy: 0.8010\n",
            "Epoch 15/20\n",
            "16/16 [==============================] - 1s 41ms/step - loss: 0.1433 - accuracy: 0.9564 - val_loss: 0.9725 - val_accuracy: 0.8130\n",
            "Epoch 16/20\n",
            "16/16 [==============================] - 1s 42ms/step - loss: 0.1358 - accuracy: 0.9572 - val_loss: 1.0166 - val_accuracy: 0.8100\n",
            "Epoch 17/20\n",
            "16/16 [==============================] - 1s 41ms/step - loss: 0.1281 - accuracy: 0.9577 - val_loss: 1.0129 - val_accuracy: 0.8160\n",
            "Epoch 18/20\n",
            "16/16 [==============================] - 1s 43ms/step - loss: 0.1226 - accuracy: 0.9559 - val_loss: 1.0425 - val_accuracy: 0.8040\n",
            "Epoch 19/20\n",
            "16/16 [==============================] - 1s 42ms/step - loss: 0.1166 - accuracy: 0.9585 - val_loss: 1.0375 - val_accuracy: 0.8130\n",
            "Epoch 20/20\n",
            "16/16 [==============================] - 1s 41ms/step - loss: 0.1130 - accuracy: 0.9574 - val_loss: 1.0606 - val_accuracy: 0.8050\n"
          ],
          "name": "stdout"
        }
      ]
    },
    {
      "cell_type": "code",
      "metadata": {
        "id": "ChNRPqsAJp_0",
        "colab_type": "code",
        "colab": {
          "base_uri": "https://localhost:8080/",
          "height": 295
        },
        "outputId": "17c4a951-9010-481f-914f-060f98b0d62c"
      },
      "source": [
        "#Plotting training & validation loss\n",
        "\n",
        "import matplotlib.pyplot as plt\n",
        "\n",
        "loss = history.history['loss']\n",
        "val_loss = history.history['val_loss']\n",
        "\n",
        "epochs = range(1, len(loss) + 1)\n",
        "\n",
        "plt.plot(epochs, loss, 'bo', label='Training loss')\n",
        "plt.plot(epochs, val_loss, 'b', label='Validation loss')\n",
        "plt.title('Training and validation loss')\n",
        "\n",
        "plt.xlabel('Epochs')\n",
        "plt.ylabel('Loss')\n",
        "\n",
        "plt.legend()\n",
        "plt.show()"
      ],
      "execution_count": null,
      "outputs": [
        {
          "output_type": "display_data",
          "data": {
            "image/png": "[encoded data removed]",
            "text/plain": [
              "<Figure size 432x288 with 1 Axes>"
            ]
          },
          "metadata": {
            "tags": [],
            "needs_background": "light"
          }
        }
      ]
    },
    {
      "cell_type": "code",
      "metadata": {
        "id": "TQQpXCDcKV6L",
        "colab_type": "code",
        "colab": {
          "base_uri": "https://localhost:8080/",
          "height": 295
        },
        "outputId": "5fcd6ac3-5a39-40c0-9c0f-c2a62bfb18f2"
      },
      "source": [
        "plt.clf()\n",
        "\n",
        "acc = history.history['accuracy']\n",
        "val_acc = history.history['val_accuracy']\n",
        "\n",
        "epochs = range(1, len(loss) + 1)\n",
        "\n",
        "plt.plot(epochs, acc, 'bo', label='Training Accuracy')\n",
        "plt.plot(epochs, val_acc, 'b', label='Validation Accuracy')\n",
        "plt.title('Training and validation Accuracy')\n",
        "\n",
        "plt.xlabel('Epochs')\n",
        "plt.ylabel('Accuracy')\n",
        "\n",
        "plt.legend()\n",
        "plt.show()"
      ],
      "execution_count": null,
      "outputs": [
        {
          "output_type": "display_data",
          "data": {
            "image/png": "[encoded data removed]",
            "text/plain": [
              "<Figure size 432x288 with 1 Axes>"
            ]
          },
          "metadata": {
            "tags": [],
            "needs_background": "light"
          }
        }
      ]
    },
    {
      "cell_type": "code",
      "metadata": {
        "id": "lBN7UHxOTRyk",
        "colab_type": "code",
        "colab": {}
      },
      "source": [
        "#Overfitting observed after 9 epochs"
      ],
      "execution_count": null,
      "outputs": []
    },
    {
      "cell_type": "code",
      "metadata": {
        "id": "r3Nq-s5fTk2A",
        "colab_type": "code",
        "colab": {
          "base_uri": "https://localhost:8080/",
          "height": 336
        },
        "outputId": "c75dbaa5-5fb6-451c-b683-a0a5a1faf932"
      },
      "source": [
        "#Retraining model\n",
        "\n",
        "model_1 = models.Sequential()\n",
        "\n",
        "model_1.add(layers.Dense(64, activation='relu', input_shape=(10000,)))\n",
        "model_1.add(layers.Dense(64, activation='relu'))\n",
        "model_1.add(layers.Dense(46, activation='softmax'))\n",
        "\n",
        "model_1.compile(optimizer='rmsprop', loss='categorical_crossentropy', \n",
        "              metrics=['accuracy'])\n",
        "\n",
        "model_1.fit(partial_x_train, partial_y_train, epochs=9, batch_size=512, validation_data=(x_val, y_val))\n",
        "\n",
        "results = model_1.evaluate(x_test, one_hot_test_labels)"
      ],
      "execution_count": null,
      "outputs": [
        {
          "output_type": "stream",
          "text": [
            "Epoch 1/9\n",
            "16/16 [==============================] - 1s 62ms/step - loss: 2.5755 - accuracy: 0.4985 - val_loss: 1.6806 - val_accuracy: 0.6580\n",
            "Epoch 2/9\n",
            "16/16 [==============================] - 1s 43ms/step - loss: 1.3672 - accuracy: 0.7187 - val_loss: 1.2902 - val_accuracy: 0.7190\n",
            "Epoch 3/9\n",
            "16/16 [==============================] - 1s 42ms/step - loss: 1.0302 - accuracy: 0.7772 - val_loss: 1.1401 - val_accuracy: 0.7530\n",
            "Epoch 4/9\n",
            "16/16 [==============================] - 1s 42ms/step - loss: 0.8162 - accuracy: 0.8271 - val_loss: 1.0756 - val_accuracy: 0.7590\n",
            "Epoch 5/9\n",
            "16/16 [==============================] - 1s 42ms/step - loss: 0.6559 - accuracy: 0.8593 - val_loss: 0.9725 - val_accuracy: 0.7930\n",
            "Epoch 6/9\n",
            "16/16 [==============================] - 1s 42ms/step - loss: 0.5280 - accuracy: 0.8896 - val_loss: 0.9265 - val_accuracy: 0.8040\n",
            "Epoch 7/9\n",
            "16/16 [==============================] - 1s 43ms/step - loss: 0.4257 - accuracy: 0.9108 - val_loss: 0.9017 - val_accuracy: 0.8090\n",
            "Epoch 8/9\n",
            "16/16 [==============================] - 1s 44ms/step - loss: 0.3473 - accuracy: 0.9241 - val_loss: 0.8989 - val_accuracy: 0.8150\n",
            "Epoch 9/9\n",
            "16/16 [==============================] - 1s 41ms/step - loss: 0.2903 - accuracy: 0.9380 - val_loss: 0.9283 - val_accuracy: 0.8100\n",
            "71/71 [==============================] - 0s 3ms/step - loss: 1.0158 - accuracy: 0.7841\n"
          ],
          "name": "stdout"
        }
      ]
    },
    {
      "cell_type": "code",
      "metadata": {
        "id": "MtZ7Tl8QT_LQ",
        "colab_type": "code",
        "colab": {
          "base_uri": "https://localhost:8080/",
          "height": 34
        },
        "outputId": "cebe631b-590a-435a-b395-0da3cdf52055"
      },
      "source": [
        "results"
      ],
      "execution_count": null,
      "outputs": [
        {
          "output_type": "execute_result",
          "data": {
            "text/plain": [
              "[1.015751838684082, 0.784060537815094]"
            ]
          },
          "metadata": {
            "tags": []
          },
          "execution_count": 19
        }
      ]
    },
    {
      "cell_type": "code",
      "metadata": {
        "id": "VapUAROvUHKG",
        "colab_type": "code",
        "colab": {}
      },
      "source": [
        "#Generating Predictions of new data\n",
        "\n",
        "predictions = model_1.predict(x_test)"
      ],
      "execution_count": 21,
      "outputs": []
    },
    {
      "cell_type": "code",
      "metadata": {
        "id": "HbKJexw-dqTR",
        "colab_type": "code",
        "colab": {
          "base_uri": "https://localhost:8080/",
          "height": 706
        },
        "outputId": "0caf1e1f-c5a6-400d-f03b-228d4dbfdd04"
      },
      "source": [
        "#Consider a model having less than 64 layers (with an information bottleneck)\n",
        "\n",
        "model_2 = models.Sequential()\n",
        "\n",
        "model_2.add(layers.Dense(64, activation='relu', input_shape=(10000,)))\n",
        "model_2.add(layers.Dense(4, activation='relu'))        #model with only 4dimensional intermediate layer\n",
        "model_2.add(layers.Dense(46, activation='softmax'))\n",
        "\n",
        "model_2.compile(optimizer='rmsprop', loss='categorical_crossentropy', metrics=['accuracy'])\n",
        "\n",
        "model_2.fit(partial_x_train, partial_y_train, epochs=20, batch_size=128, validation_data=(x_val, y_val))"
      ],
      "execution_count": 22,
      "outputs": [
        {
          "output_type": "stream",
          "text": [
            "Epoch 1/20\n",
            "63/63 [==============================] - 2s 26ms/step - loss: 2.7108 - accuracy: 0.3740 - val_loss: 2.0619 - val_accuracy: 0.5040\n",
            "Epoch 2/20\n",
            "63/63 [==============================] - 1s 16ms/step - loss: 1.8616 - accuracy: 0.5460 - val_loss: 1.7512 - val_accuracy: 0.5770\n",
            "Epoch 3/20\n",
            "63/63 [==============================] - 1s 16ms/step - loss: 1.6091 - accuracy: 0.5879 - val_loss: 1.6283 - val_accuracy: 0.5860\n",
            "Epoch 4/20\n",
            "63/63 [==============================] - 1s 16ms/step - loss: 1.4542 - accuracy: 0.6124 - val_loss: 1.5662 - val_accuracy: 0.6050\n",
            "Epoch 5/20\n",
            "63/63 [==============================] - 1s 16ms/step - loss: 1.3346 - accuracy: 0.6466 - val_loss: 1.5334 - val_accuracy: 0.6120\n",
            "Epoch 6/20\n",
            "63/63 [==============================] - 1s 16ms/step - loss: 1.2387 - accuracy: 0.6547 - val_loss: 1.5197 - val_accuracy: 0.6180\n",
            "Epoch 7/20\n",
            "63/63 [==============================] - 1s 16ms/step - loss: 1.1638 - accuracy: 0.6641 - val_loss: 1.5077 - val_accuracy: 0.6330\n",
            "Epoch 8/20\n",
            "63/63 [==============================] - 1s 16ms/step - loss: 1.1009 - accuracy: 0.6867 - val_loss: 1.5452 - val_accuracy: 0.6360\n",
            "Epoch 9/20\n",
            "63/63 [==============================] - 1s 16ms/step - loss: 1.0466 - accuracy: 0.6989 - val_loss: 1.5757 - val_accuracy: 0.6450\n",
            "Epoch 10/20\n",
            "63/63 [==============================] - 1s 16ms/step - loss: 0.9988 - accuracy: 0.7145 - val_loss: 1.6029 - val_accuracy: 0.6420\n",
            "Epoch 11/20\n",
            "63/63 [==============================] - 1s 16ms/step - loss: 0.9608 - accuracy: 0.7196 - val_loss: 1.6187 - val_accuracy: 0.6450\n",
            "Epoch 12/20\n",
            "63/63 [==============================] - 1s 16ms/step - loss: 0.9250 - accuracy: 0.7265 - val_loss: 1.6670 - val_accuracy: 0.6370\n",
            "Epoch 13/20\n",
            "63/63 [==============================] - 1s 16ms/step - loss: 0.8968 - accuracy: 0.7290 - val_loss: 1.6944 - val_accuracy: 0.6350\n",
            "Epoch 14/20\n",
            "63/63 [==============================] - 1s 16ms/step - loss: 0.8719 - accuracy: 0.7335 - val_loss: 1.7434 - val_accuracy: 0.6380\n",
            "Epoch 15/20\n",
            "63/63 [==============================] - 1s 16ms/step - loss: 0.8482 - accuracy: 0.7385 - val_loss: 1.8170 - val_accuracy: 0.6340\n",
            "Epoch 16/20\n",
            "63/63 [==============================] - 1s 16ms/step - loss: 0.8271 - accuracy: 0.7413 - val_loss: 1.9574 - val_accuracy: 0.6330\n",
            "Epoch 17/20\n",
            "63/63 [==============================] - 1s 16ms/step - loss: 0.8097 - accuracy: 0.7474 - val_loss: 1.9264 - val_accuracy: 0.6370\n",
            "Epoch 18/20\n",
            "63/63 [==============================] - 1s 16ms/step - loss: 0.7882 - accuracy: 0.7523 - val_loss: 1.9150 - val_accuracy: 0.6360\n",
            "Epoch 19/20\n",
            "63/63 [==============================] - 1s 16ms/step - loss: 0.7706 - accuracy: 0.7631 - val_loss: 1.9618 - val_accuracy: 0.6480\n",
            "Epoch 20/20\n",
            "63/63 [==============================] - 1s 16ms/step - loss: 0.7534 - accuracy: 0.7868 - val_loss: 2.0604 - val_accuracy: 0.6490\n"
          ],
          "name": "stdout"
        },
        {
          "output_type": "execute_result",
          "data": {
            "text/plain": [
              "<tensorflow.python.keras.callbacks.History at 0x7f0c5ef5b320>"
            ]
          },
          "metadata": {
            "tags": []
          },
          "execution_count": 22
        }
      ]
    },
    {
      "cell_type": "markdown",
      "metadata": {
        "id": "Z_Lm_0ZMf7iQ",
        "colab_type": "text"
      },
      "source": [
        "The network now peaks at ~64% validation accuracy, a signifcant absolute drop. This drop\n",
        "is mostly due to the fact that you’re trying to compress a lot of information (enough\n",
        "information to recover the separation hyperplanes of 46 classes) into an intermediate\n",
        "space that is too low-dimensional. The network is able to cram most of the necessary\n",
        "information into these eight-dimensional representations, but not all of it"
      ]
    },
    {
      "cell_type": "code",
      "metadata": {
        "id": "iYnb50_RgD_b",
        "colab_type": "code",
        "colab": {
          "base_uri": "https://localhost:8080/",
          "height": 706
        },
        "outputId": "404b441e-0ad3-4d40-894a-088d5d9fe296"
      },
      "source": [
        "#Model with only one dense layer having 128 dimensional\n",
        "\n",
        "model_3= models.Sequential()\n",
        "\n",
        "model_3.add(layers.Dense(128, activation='relu', input_shape=(10000,)))      #model with only 128 dimensional intermediate layer\n",
        "model_3.add(layers.Dense(46, activation='softmax'))\n",
        "\n",
        "model_3.compile(optimizer='rmsprop', loss='categorical_crossentropy', metrics=['accuracy'])\n",
        "\n",
        "model_3.fit(partial_x_train, partial_y_train, epochs=20, batch_size=128, validation_data=(x_val, y_val))"
      ],
      "execution_count": 24,
      "outputs": [
        {
          "output_type": "stream",
          "text": [
            "Epoch 1/20\n",
            "63/63 [==============================] - 2s 28ms/step - loss: 1.6144 - accuracy: 0.6832 - val_loss: 1.0550 - val_accuracy: 0.7660\n",
            "Epoch 2/20\n",
            "63/63 [==============================] - 2s 27ms/step - loss: 0.7435 - accuracy: 0.8470 - val_loss: 0.8747 - val_accuracy: 0.8150\n",
            "Epoch 3/20\n",
            "63/63 [==============================] - 2s 26ms/step - loss: 0.4571 - accuracy: 0.9050 - val_loss: 0.8047 - val_accuracy: 0.8340\n",
            "Epoch 4/20\n",
            "63/63 [==============================] - 2s 26ms/step - loss: 0.3066 - accuracy: 0.9355 - val_loss: 0.8102 - val_accuracy: 0.8310\n",
            "Epoch 5/20\n",
            "63/63 [==============================] - 2s 26ms/step - loss: 0.2341 - accuracy: 0.9439 - val_loss: 0.8166 - val_accuracy: 0.8320\n",
            "Epoch 6/20\n",
            "63/63 [==============================] - 2s 25ms/step - loss: 0.1925 - accuracy: 0.9495 - val_loss: 0.8865 - val_accuracy: 0.8200\n",
            "Epoch 7/20\n",
            "63/63 [==============================] - 2s 26ms/step - loss: 0.1680 - accuracy: 0.9543 - val_loss: 0.9686 - val_accuracy: 0.8070\n",
            "Epoch 8/20\n",
            "63/63 [==============================] - 2s 26ms/step - loss: 0.1502 - accuracy: 0.9523 - val_loss: 0.9299 - val_accuracy: 0.8240\n",
            "Epoch 9/20\n",
            "63/63 [==============================] - 2s 26ms/step - loss: 0.1378 - accuracy: 0.9559 - val_loss: 1.0415 - val_accuracy: 0.8040\n",
            "Epoch 10/20\n",
            "63/63 [==============================] - 2s 26ms/step - loss: 0.1354 - accuracy: 0.9562 - val_loss: 1.0254 - val_accuracy: 0.8090\n",
            "Epoch 11/20\n",
            "63/63 [==============================] - 2s 26ms/step - loss: 0.1256 - accuracy: 0.9550 - val_loss: 1.0407 - val_accuracy: 0.8060\n",
            "Epoch 12/20\n",
            "63/63 [==============================] - 2s 26ms/step - loss: 0.1278 - accuracy: 0.9569 - val_loss: 1.0795 - val_accuracy: 0.8080\n",
            "Epoch 13/20\n",
            "63/63 [==============================] - 2s 26ms/step - loss: 0.1196 - accuracy: 0.9546 - val_loss: 1.0853 - val_accuracy: 0.8110\n",
            "Epoch 14/20\n",
            "63/63 [==============================] - 2s 27ms/step - loss: 0.1183 - accuracy: 0.9565 - val_loss: 1.1040 - val_accuracy: 0.8140\n",
            "Epoch 15/20\n",
            "63/63 [==============================] - 2s 26ms/step - loss: 0.1129 - accuracy: 0.9562 - val_loss: 1.2152 - val_accuracy: 0.7990\n",
            "Epoch 16/20\n",
            "63/63 [==============================] - 2s 26ms/step - loss: 0.1131 - accuracy: 0.9554 - val_loss: 1.2660 - val_accuracy: 0.7890\n",
            "Epoch 17/20\n",
            "63/63 [==============================] - 2s 26ms/step - loss: 0.1118 - accuracy: 0.9569 - val_loss: 1.1902 - val_accuracy: 0.8030\n",
            "Epoch 18/20\n",
            "63/63 [==============================] - 2s 26ms/step - loss: 0.1068 - accuracy: 0.9587 - val_loss: 1.1869 - val_accuracy: 0.8050\n",
            "Epoch 19/20\n",
            "63/63 [==============================] - 2s 26ms/step - loss: 0.1045 - accuracy: 0.9565 - val_loss: 1.2828 - val_accuracy: 0.7960\n",
            "Epoch 20/20\n",
            "63/63 [==============================] - 2s 26ms/step - loss: 0.1031 - accuracy: 0.9577 - val_loss: 1.2589 - val_accuracy: 0.8040\n"
          ],
          "name": "stdout"
        },
        {
          "output_type": "execute_result",
          "data": {
            "text/plain": [
              "<tensorflow.python.keras.callbacks.History at 0x7f0c5f7b98d0>"
            ]
          },
          "metadata": {
            "tags": []
          },
          "execution_count": 24
        }
      ]
    },
    {
      "cell_type": "code",
      "metadata": {
        "id": "BjKsbc6xgk4-",
        "colab_type": "code",
        "colab": {}
      },
      "source": [
        ""
      ],
      "execution_count": null,
      "outputs": []
    }
  ]
}