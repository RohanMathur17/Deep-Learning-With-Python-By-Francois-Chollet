{
  "nbformat": 4,
  "nbformat_minor": 0,
  "metadata": {
    "colab": {
      "name": "CH4_Improving_Models.ipynb",
      "provenance": [],
      "authorship_tag": "ABX9TyOf8krncaimjF9194ezkkJk",
      "include_colab_link": true
    },
    "kernelspec": {
      "name": "python3",
      "display_name": "Python 3"
    }
  },
  "cells": [
    {
      "cell_type": "markdown",
      "metadata": {
        "id": "view-in-github",
        "colab_type": "text"
      },
      "source": [
        "<a href=\"https://colab.research.google.com/github/RohanMathur17/Deep-Learning-With-Python-By-Francois-Chollet/blob/master/Chapter%204/CH4_Improving_Models.ipynb\" target=\"_parent\"><img src=\"https://colab.research.google.com/assets/colab-badge.svg\" alt=\"Open In Colab\"/></a>"
      ]
    },
    {
      "cell_type": "code",
      "metadata": {
        "id": "HTqG1_A_XhoP",
        "colab_type": "code",
        "colab": {
          "base_uri": "https://localhost:8080/",
          "height": 50
        },
        "outputId": "7b9acc3f-fede-463e-ff02-88ee5b092302"
      },
      "source": [
        "#MOVIE REVIEW DATASET\n",
        "\n",
        "from keras.datasets import imdb\n",
        "\n",
        "(train_data , train_labels) , (test_data , test_labels) = imdb.load_data(num_words = 10000)   #Keeping the top 10,000 words"
      ],
      "execution_count": 1,
      "outputs": [
        {
          "output_type": "stream",
          "text": [
            "Downloading data from https://storage.googleapis.com/tensorflow/tf-keras-datasets/imdb.npz\n",
            "17465344/17464789 [==============================] - 0s 0us/step\n"
          ],
          "name": "stdout"
        }
      ]
    },
    {
      "cell_type": "code",
      "metadata": {
        "id": "m0bU_NCqOYZ8",
        "colab_type": "code",
        "colab": {}
      },
      "source": [
        "#Adding L2 Regularization weights to the model\n",
        "\n",
        "from keras import models\n",
        "from keras import layers\n",
        "\n",
        "from keras import regularizers\n",
        "\n",
        "model = models.Sequential()\n",
        "\n",
        "model.add(layers.Dense(16, kernel_regularizer=regularizers.l2(0.001), activation='relu', input_shape=(10000,))) #The cost added is proportional to the square of the value of the\n",
        "                                                                                                                #weight coefficients\n",
        "\n",
        "#l2(0.001) means every coefficient in the weight matrix of the layer will add 0.001 *\n",
        "#weight_coefficient_value to the total loss of the network. Note that because this\n",
        "#penalty is only added at training time, the loss for this network will be much higher at\n",
        "#training than at test time.\n",
        "\n",
        "model.add(layers.Dense(16, kernel_regularizer=regularizers.l2(0.001), activation='relu'))\n",
        "model.add(layers.Dense(1, activation='sigmoid'))"
      ],
      "execution_count": 4,
      "outputs": []
    },
    {
      "cell_type": "code",
      "metadata": {
        "id": "OoyErMULbTxs",
        "colab_type": "code",
        "colab": {}
      },
      "source": [
        "#Different available regularization techniques\n",
        "\n",
        "regularizers.l1(0.001)                      #Implementing L1 regularization - The cost added is proportional to the absolute value of the weight coefficients \n",
        "\n",
        "regularizers.l1_l2(l1=0.001, l2=0.001)      #Simultaneous L1 and L2 regularization"
      ],
      "execution_count": null,
      "outputs": []
    }
  ]
}