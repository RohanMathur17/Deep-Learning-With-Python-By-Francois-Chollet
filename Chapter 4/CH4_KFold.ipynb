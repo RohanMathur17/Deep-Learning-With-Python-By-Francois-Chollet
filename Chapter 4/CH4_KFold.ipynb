{
  "nbformat": 4,
  "nbformat_minor": 0,
  "metadata": {
    "colab": {
      "name": "CH4_KFold.ipynb",
      "provenance": [],
      "collapsed_sections": [],
      "authorship_tag": "ABX9TyMaPKGXtqxgYJiCPiXPkGRP",
      "include_colab_link": true
    },
    "kernelspec": {
      "name": "python3",
      "display_name": "Python 3"
    }
  },
  "cells": [
    {
      "cell_type": "markdown",
      "metadata": {
        "id": "view-in-github",
        "colab_type": "text"
      },
      "source": [
        "<a href=\"https://colab.research.google.com/github/RohanMathur17/Deep-Learning-With-Python-By-Francois-Chollet/blob/master/Chapter%204/CH4_KFold.ipynb\" target=\"_parent\"><img src=\"https://colab.research.google.com/assets/colab-badge.svg\" alt=\"Open In Colab\"/></a>"
      ]
    },
    {
      "cell_type": "code",
      "metadata": {
        "id": "P26GhMdomprf",
        "colab_type": "code",
        "colab": {
          "base_uri": "https://localhost:8080/",
          "height": 229
        },
        "outputId": "3e761abf-1d4a-443b-a5f4-988275617c6f"
      },
      "source": [
        "import numpy as np\n",
        "\n",
        "num_validation_samples = 1000\n",
        "\n",
        "np.random.shuffle(data)\n",
        "\n",
        "validation_data = data[:num_validation_samples]   #Defining the validation set\n",
        "\n",
        "data = data[num_validation_samples:]              #Refining the data by excluding the random validation set that was selected\n",
        "\n",
        "training_data = data[:]                           #Renaming it to training data\n",
        "\n",
        "model = get_model()\n",
        "model.train(training_data)\n",
        "\n",
        "validation_score = model.evaluate(validation_data)#Evaluating the trained data on the validation set\n",
        "\n",
        "# At this point you can tune your model,\n",
        "# retrain it, evaluate it, tune it again...\n",
        "\n",
        "#Consider you have tuned your hyperparameters for the model\n",
        "\n",
        "model = get_model()  #Tuned model function\n",
        "\n",
        "model.train(np.concatenate([training_data, validation_data]))   #Now you can combine the training and validated data\n",
        "\n",
        "test_score = model.evaluate(test_data)                          #Evaluate the model on the test set\n"
      ],
      "execution_count": 1,
      "outputs": [
        {
          "output_type": "error",
          "ename": "NameError",
          "evalue": "ignored",
          "traceback": [
            "\u001b[0;31m---------------------------------------------------------------------------\u001b[0m",
            "\u001b[0;31mNameError\u001b[0m                                 Traceback (most recent call last)",
            "\u001b[0;32m<ipython-input-1-59b242eedf49>\u001b[0m in \u001b[0;36m<module>\u001b[0;34m()\u001b[0m\n\u001b[1;32m      3\u001b[0m \u001b[0mnum_validation_samples\u001b[0m \u001b[0;34m=\u001b[0m \u001b[0;36m1000\u001b[0m\u001b[0;34m\u001b[0m\u001b[0;34m\u001b[0m\u001b[0m\n\u001b[1;32m      4\u001b[0m \u001b[0;34m\u001b[0m\u001b[0m\n\u001b[0;32m----> 5\u001b[0;31m \u001b[0mnp\u001b[0m\u001b[0;34m.\u001b[0m\u001b[0mrandom\u001b[0m\u001b[0;34m.\u001b[0m\u001b[0mshuffle\u001b[0m\u001b[0;34m(\u001b[0m\u001b[0mdata\u001b[0m\u001b[0;34m)\u001b[0m\u001b[0;34m\u001b[0m\u001b[0;34m\u001b[0m\u001b[0m\n\u001b[0m\u001b[1;32m      6\u001b[0m \u001b[0;34m\u001b[0m\u001b[0m\n\u001b[1;32m      7\u001b[0m \u001b[0mvalidation_data\u001b[0m \u001b[0;34m=\u001b[0m \u001b[0mdata\u001b[0m\u001b[0;34m[\u001b[0m\u001b[0;34m:\u001b[0m\u001b[0mnum_validation_samples\u001b[0m\u001b[0;34m]\u001b[0m   \u001b[0;31m#Defining the validation set\u001b[0m\u001b[0;34m\u001b[0m\u001b[0;34m\u001b[0m\u001b[0m\n",
            "\u001b[0;31mNameError\u001b[0m: name 'data' is not defined"
          ]
        }
      ]
    },
    {
      "cell_type": "markdown",
      "metadata": {
        "id": "nNWH8ItMAbxo",
        "colab_type": "text"
      },
      "source": [
        "if little data is\n",
        "available, then your validation and test sets may contain too few samples to be statistically representative of the data at hand. Hence , we use & overcome this problem by using K-Fold validation"
      ]
    },
    {
      "cell_type": "code",
      "metadata": {
        "id": "N1S8oV0ZAjY8",
        "colab_type": "code",
        "colab": {}
      },
      "source": [
        "#K - Fold validation\n",
        "\n",
        "k = 4\n",
        "num_validation_samples = len(data) // k\n",
        "\n",
        "np.random.shuffle(data)\n",
        "\n",
        "validation_scores = []\n",
        "\n",
        "for fold in range(k):\n",
        "\n",
        "    validation_data = data[num_validation_samples * fold: num_validation_samples * (fold + 1)]       #Performing k-fold to get training and validation data \n",
        "    training_data = data[:num_validation_samples * fold] + data[num_validation_samples * (fold +1):] #This is done 4 times in 4 different ways (k = 4)\n",
        "\n",
        "    model = get_model()\n",
        "\n",
        "    model.train(training_data)\n",
        "    validation_score = model.evaluate(validation_data)\n",
        "\n",
        "    validation_scores.append(validation_score)\n",
        "\n",
        "\n",
        "avg_validation = np.average(validation_scores)                           #Average validation score for all 4 folds\n",
        "\n",
        "model.train(data)                                                        #Training on training+validation data \n",
        "test_score = model.evaluate(test_data)                                   #Finally , testing it on testing data"
      ],
      "execution_count": null,
      "outputs": []
    }
  ]
}