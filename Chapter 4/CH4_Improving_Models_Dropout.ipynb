{
  "nbformat": 4,
  "nbformat_minor": 0,
  "metadata": {
    "colab": {
      "name": "CH4_Improving_Models_Dropout.ipynb",
      "provenance": [],
      "authorship_tag": "ABX9TyNLrSEmc8ZvGtHKSMT2zlYO",
      "include_colab_link": true
    },
    "kernelspec": {
      "name": "python3",
      "display_name": "Python 3"
    }
  },
  "cells": [
    {
      "cell_type": "markdown",
      "metadata": {
        "id": "view-in-github",
        "colab_type": "text"
      },
      "source": [
        "<a href=\"https://colab.research.google.com/github/RohanMathur17/Deep-Learning-With-Python-By-Francois-Chollet/blob/master/Chapter%204/CH4_Improving_Models_Dropout.ipynb\" target=\"_parent\"><img src=\"https://colab.research.google.com/assets/colab-badge.svg\" alt=\"Open In Colab\"/></a>"
      ]
    },
    {
      "cell_type": "code",
      "metadata": {
        "id": "LLjYOAMCH-cJ",
        "colab_type": "code",
        "colab": {}
      },
      "source": [
        "from keras.datasets import imdb\n",
        "\n",
        "(train_data , train_labels) , (test_data , test_labels) = imdb.load_data(num_words = 10000)   #Keeping the top 10,000 words"
      ],
      "execution_count": 8,
      "outputs": []
    },
    {
      "cell_type": "code",
      "metadata": {
        "id": "lHq9XxuESIuX",
        "colab_type": "code",
        "colab": {}
      },
      "source": [
        "#Prevent Overfitting\n",
        "from keras import models\n",
        "from keras import layers"
      ],
      "execution_count": 9,
      "outputs": []
    },
    {
      "cell_type": "code",
      "metadata": {
        "id": "elVYYlvYV-rD",
        "colab_type": "code",
        "colab": {}
      },
      "source": [
        "import numpy as np\n",
        "\n",
        "def vectorize_sequences(sequences , dimension = 10000):\n",
        "\n",
        "    results = np.zeros((len(sequences), dimension))  #Creates an all-zero matrix of shape (len(sequences), dimension\n",
        "\n",
        "    for i,sequence in enumerate(sequences):\n",
        "\n",
        "        results[i,sequence] = 1\n",
        "\n",
        "    return results"
      ],
      "execution_count": 10,
      "outputs": []
    },
    {
      "cell_type": "code",
      "metadata": {
        "id": "aak5ib--Wajd",
        "colab_type": "code",
        "colab": {}
      },
      "source": [
        "#Vectorizing data\n",
        "\n",
        "x_train = vectorize_sequences(train_data)\n",
        "x_test = vectorize_sequences(test_data)\n",
        "\n",
        "#Vectorizing labels\n",
        "\n",
        "y_train = np.asarray(train_labels).astype('float32')\n",
        "y_test = np.asarray(test_labels).astype('float32')"
      ],
      "execution_count": 11,
      "outputs": []
    },
    {
      "cell_type": "code",
      "metadata": {
        "id": "TRJ8mVJ7WgUh",
        "colab_type": "code",
        "colab": {}
      },
      "source": [
        "model = models.Sequential()\n",
        "model.add(layers.Dense(16, activation='relu', input_shape=(10000,)))\n",
        "model.add(layers.Dense(16, activation='relu'))\n",
        "model.add(layers.Dense(1, activation='sigmoid'))"
      ],
      "execution_count": 12,
      "outputs": []
    },
    {
      "cell_type": "code",
      "metadata": {
        "id": "NH-kqWzzWun1",
        "colab_type": "code",
        "colab": {}
      },
      "source": [
        "model.compile(optimizer = 'rmsprop',                    #Optimizer,loss, metrics can be configured on your own as well\n",
        "              loss = 'binary_crossentropy',\n",
        "              metrics = ['accuracy'])\n",
        "\n",
        "from keras import optimizers\n",
        "\n",
        "model.compile(optimizer=optimizers.RMSprop(lr=0.001),loss='binary_crossentropy', metrics=['accuracy'])\n",
        "\n",
        "from keras import losses\n",
        "from keras import metrics\n",
        "\n",
        "model.compile(optimizer=optimizers.RMSprop(lr=0.001),loss=losses.binary_crossentropy,metrics=[metrics.binary_accuracy])\n",
        "\n",
        "#Validating our approach\n",
        "\n",
        "x_val = x_train[:10000]\n",
        "partial_x_train = x_train[10000:]\n",
        "\n",
        "y_val = y_train[:10000]\n",
        "partial_y_train = y_train[10000:]"
      ],
      "execution_count": 13,
      "outputs": []
    },
    {
      "cell_type": "code",
      "metadata": {
        "id": "ltLbbNLgW46Y",
        "colab_type": "code",
        "colab": {
          "base_uri": "https://localhost:8080/",
          "height": 689
        },
        "outputId": "8690fa56-7049-42a5-9007-f2d870b63f32"
      },
      "source": [
        "\n",
        "#Training your model\n",
        "\n",
        "model.compile(optimizer='rmsprop',loss='binary_crossentropy',metrics=['acc'])\n",
        "\n",
        "history = model.fit(partial_x_train, partial_y_train, epochs=20, batch_size=512, validation_data=(x_val, y_val))"
      ],
      "execution_count": 14,
      "outputs": [
        {
          "output_type": "stream",
          "text": [
            "Epoch 1/20\n",
            "30/30 [==============================] - 2s 55ms/step - loss: 0.5466 - acc: 0.7708 - val_loss: 0.4129 - val_acc: 0.8733\n",
            "Epoch 2/20\n",
            "30/30 [==============================] - 1s 46ms/step - loss: 0.3355 - acc: 0.8983 - val_loss: 0.3207 - val_acc: 0.8880\n",
            "Epoch 3/20\n",
            "30/30 [==============================] - 1s 49ms/step - loss: 0.2418 - acc: 0.9255 - val_loss: 0.2929 - val_acc: 0.8852\n",
            "Epoch 4/20\n",
            "30/30 [==============================] - 1s 49ms/step - loss: 0.1899 - acc: 0.9414 - val_loss: 0.2755 - val_acc: 0.8909\n",
            "Epoch 5/20\n",
            "30/30 [==============================] - 2s 50ms/step - loss: 0.1538 - acc: 0.9524 - val_loss: 0.2743 - val_acc: 0.8896\n",
            "Epoch 6/20\n",
            "30/30 [==============================] - 2s 50ms/step - loss: 0.1254 - acc: 0.9623 - val_loss: 0.3494 - val_acc: 0.8630\n",
            "Epoch 7/20\n",
            "30/30 [==============================] - 1s 38ms/step - loss: 0.1058 - acc: 0.9693 - val_loss: 0.2957 - val_acc: 0.8844\n",
            "Epoch 8/20\n",
            "30/30 [==============================] - 1s 41ms/step - loss: 0.0860 - acc: 0.9763 - val_loss: 0.3152 - val_acc: 0.8819\n",
            "Epoch 9/20\n",
            "30/30 [==============================] - 1s 42ms/step - loss: 0.0695 - acc: 0.9823 - val_loss: 0.3397 - val_acc: 0.8814\n",
            "Epoch 10/20\n",
            "30/30 [==============================] - 1s 48ms/step - loss: 0.0579 - acc: 0.9861 - val_loss: 0.3897 - val_acc: 0.8734\n",
            "Epoch 11/20\n",
            "30/30 [==============================] - 2s 50ms/step - loss: 0.0460 - acc: 0.9888 - val_loss: 0.3814 - val_acc: 0.8784\n",
            "Epoch 12/20\n",
            "30/30 [==============================] - 1s 50ms/step - loss: 0.0350 - acc: 0.9934 - val_loss: 0.4085 - val_acc: 0.8758\n",
            "Epoch 13/20\n",
            "30/30 [==============================] - 1s 49ms/step - loss: 0.0276 - acc: 0.9952 - val_loss: 0.4353 - val_acc: 0.8756\n",
            "Epoch 14/20\n",
            "30/30 [==============================] - 1s 40ms/step - loss: 0.0216 - acc: 0.9969 - val_loss: 0.4680 - val_acc: 0.8746\n",
            "Epoch 15/20\n",
            "30/30 [==============================] - 1s 36ms/step - loss: 0.0164 - acc: 0.9981 - val_loss: 0.5034 - val_acc: 0.8735\n",
            "Epoch 16/20\n",
            "30/30 [==============================] - 1s 50ms/step - loss: 0.0137 - acc: 0.9982 - val_loss: 0.5260 - val_acc: 0.8711\n",
            "Epoch 17/20\n",
            "30/30 [==============================] - 1s 49ms/step - loss: 0.0100 - acc: 0.9993 - val_loss: 0.5591 - val_acc: 0.8711\n",
            "Epoch 18/20\n",
            "30/30 [==============================] - 1s 45ms/step - loss: 0.0062 - acc: 0.9997 - val_loss: 0.5939 - val_acc: 0.8706\n",
            "Epoch 19/20\n",
            "30/30 [==============================] - 1s 41ms/step - loss: 0.0070 - acc: 0.9991 - val_loss: 0.6338 - val_acc: 0.8677\n",
            "Epoch 20/20\n",
            "30/30 [==============================] - 1s 47ms/step - loss: 0.0032 - acc: 0.9999 - val_loss: 0.7035 - val_acc: 0.8627\n"
          ],
          "name": "stdout"
        }
      ]
    },
    {
      "cell_type": "code",
      "metadata": {
        "id": "d4dqxGpsXNuc",
        "colab_type": "code",
        "colab": {
          "base_uri": "https://localhost:8080/",
          "height": 295
        },
        "outputId": "aba4eb9c-e393-4f3f-e092-a52246640f01"
      },
      "source": [
        "import matplotlib.pyplot as plt\n",
        "\n",
        "history_dict = history.history\n",
        "\n",
        "loss_values = history_dict['loss']\n",
        "val_loss_values = history_dict['val_loss']\n",
        "\n",
        "epochs = range(1, len(history_dict['val_acc']) + 1)\n",
        "\n",
        "plt.plot(epochs, loss_values, 'bo', label='Training loss')\n",
        "plt.plot(epochs, val_loss_values, 'b', label='Validation loss')\n",
        "\n",
        "plt.title('Training and validation loss')\n",
        "plt.xlabel('Epochs')\n",
        "plt.ylabel('Loss')\n",
        "\n",
        "plt.legend()\n",
        "\n",
        "plt.show()"
      ],
      "execution_count": 15,
      "outputs": [
        {
          "output_type": "display_data",
          "data": {
            "image/png": "[encoded data removed]",
            "text/plain": [
              "<Figure size 432x288 with 1 Axes>"
            ]
          },
          "metadata": {
            "tags": [],
            "needs_background": "light"
          }
        }
      ]
    },
    {
      "cell_type": "code",
      "metadata": {
        "id": "118iPxYYSM2I",
        "colab_type": "code",
        "colab": {}
      },
      "source": [
        "#Adding Dropout\n",
        "\n",
        "model1 = models.Sequential()\n",
        "model1.add(layers.Dense(16, activation='relu', input_shape=(10000,)))\n",
        "model1.add(layers.Dropout(0.5))\n",
        "model1.add(layers.Dense(16, activation='relu'))\n",
        "model1.add(layers.Dropout(0.5))\n",
        "model1.add(layers.Dense(1, activation='sigmoid'))"
      ],
      "execution_count": 16,
      "outputs": []
    },
    {
      "cell_type": "code",
      "metadata": {
        "id": "vXbMgK_VXYoV",
        "colab_type": "code",
        "colab": {
          "base_uri": "https://localhost:8080/",
          "height": 689
        },
        "outputId": "a98b91cd-4284-435f-a6dc-5f85756949e6"
      },
      "source": [
        "model1.compile(optimizer = 'rmsprop',                    #Optimizer,loss, metrics can be configured on your own as well\n",
        "              loss = 'binary_crossentropy',\n",
        "              metrics = ['accuracy'])\n",
        "\n",
        "model1.compile(optimizer=optimizers.RMSprop(lr=0.001),loss='binary_crossentropy', metrics=['accuracy'])\n",
        "\n",
        "model1.compile(optimizer=optimizers.RMSprop(lr=0.001),loss=losses.binary_crossentropy,metrics=[metrics.binary_accuracy])\n",
        "\n",
        "#Training your model\n",
        "\n",
        "model1.compile(optimizer='rmsprop',loss='binary_crossentropy',metrics=['acc'])\n",
        "\n",
        "history1 = model1.fit(partial_x_train, partial_y_train, epochs=20, batch_size=512, validation_data=(x_val, y_val))"
      ],
      "execution_count": 17,
      "outputs": [
        {
          "output_type": "stream",
          "text": [
            "Epoch 1/20\n",
            "30/30 [==============================] - 2s 63ms/step - loss: 0.6177 - acc: 0.6563 - val_loss: 0.4967 - val_acc: 0.8477\n",
            "Epoch 2/20\n",
            "30/30 [==============================] - 1s 48ms/step - loss: 0.4952 - acc: 0.7803 - val_loss: 0.4068 - val_acc: 0.8709\n",
            "Epoch 3/20\n",
            "30/30 [==============================] - 1s 46ms/step - loss: 0.4183 - acc: 0.8438 - val_loss: 0.3448 - val_acc: 0.8792\n",
            "Epoch 4/20\n",
            "30/30 [==============================] - 1s 39ms/step - loss: 0.3604 - acc: 0.8740 - val_loss: 0.3049 - val_acc: 0.8852\n",
            "Epoch 5/20\n",
            "30/30 [==============================] - 1s 45ms/step - loss: 0.3124 - acc: 0.8913 - val_loss: 0.2869 - val_acc: 0.8887\n",
            "Epoch 6/20\n",
            "30/30 [==============================] - 1s 46ms/step - loss: 0.2726 - acc: 0.9090 - val_loss: 0.2807 - val_acc: 0.8866\n",
            "Epoch 7/20\n",
            "30/30 [==============================] - 1s 46ms/step - loss: 0.2417 - acc: 0.9227 - val_loss: 0.2805 - val_acc: 0.8881\n",
            "Epoch 8/20\n",
            "30/30 [==============================] - 1s 47ms/step - loss: 0.2148 - acc: 0.9323 - val_loss: 0.2917 - val_acc: 0.8882\n",
            "Epoch 9/20\n",
            "30/30 [==============================] - 1s 46ms/step - loss: 0.1956 - acc: 0.9377 - val_loss: 0.2945 - val_acc: 0.8871\n",
            "Epoch 10/20\n",
            "30/30 [==============================] - 1s 46ms/step - loss: 0.1660 - acc: 0.9513 - val_loss: 0.3186 - val_acc: 0.8868\n",
            "Epoch 11/20\n",
            "30/30 [==============================] - 1s 45ms/step - loss: 0.1517 - acc: 0.9533 - val_loss: 0.3524 - val_acc: 0.8885\n",
            "Epoch 12/20\n",
            "30/30 [==============================] - 1s 45ms/step - loss: 0.1393 - acc: 0.9578 - val_loss: 0.3541 - val_acc: 0.8878\n",
            "Epoch 13/20\n",
            "30/30 [==============================] - 1s 37ms/step - loss: 0.1248 - acc: 0.9609 - val_loss: 0.3798 - val_acc: 0.8808\n",
            "Epoch 14/20\n",
            "30/30 [==============================] - 1s 34ms/step - loss: 0.1132 - acc: 0.9653 - val_loss: 0.3906 - val_acc: 0.8848\n",
            "Epoch 15/20\n",
            "30/30 [==============================] - 1s 44ms/step - loss: 0.1081 - acc: 0.9651 - val_loss: 0.4741 - val_acc: 0.8829\n",
            "Epoch 16/20\n",
            "30/30 [==============================] - 1s 46ms/step - loss: 0.0977 - acc: 0.9704 - val_loss: 0.4685 - val_acc: 0.8840\n",
            "Epoch 17/20\n",
            "30/30 [==============================] - 1s 48ms/step - loss: 0.0949 - acc: 0.9705 - val_loss: 0.5347 - val_acc: 0.8813\n",
            "Epoch 18/20\n",
            "30/30 [==============================] - 1s 46ms/step - loss: 0.0861 - acc: 0.9717 - val_loss: 0.5065 - val_acc: 0.8814\n",
            "Epoch 19/20\n",
            "30/30 [==============================] - 1s 47ms/step - loss: 0.0822 - acc: 0.9738 - val_loss: 0.5202 - val_acc: 0.8835\n",
            "Epoch 20/20\n",
            "30/30 [==============================] - 1s 45ms/step - loss: 0.0785 - acc: 0.9752 - val_loss: 0.5532 - val_acc: 0.8825\n"
          ],
          "name": "stdout"
        }
      ]
    },
    {
      "cell_type": "code",
      "metadata": {
        "id": "tPu-c936Xp4G",
        "colab_type": "code",
        "colab": {
          "base_uri": "https://localhost:8080/",
          "height": 295
        },
        "outputId": "2c995ff9-35dc-4844-a227-f5bc68a22f83"
      },
      "source": [
        "history_dict1 = history1.history\n",
        "val_loss_values_dropout = history_dict1['val_loss']\n",
        "\n",
        "epochs = range(1, len(history_dict1['val_acc']) + 1)\n",
        "\n",
        "plt.plot(epochs, val_loss_values, '*', label='Validation loss')\n",
        "plt.plot(epochs, val_loss_values_dropout, 'b', label='Validation loss With Dropout')\n",
        "\n",
        "plt.title('Validation loss For Normal VS Dropout')\n",
        "plt.xlabel('Epochs')\n",
        "plt.ylabel('Loss')\n",
        "\n",
        "plt.legend()\n",
        "\n",
        "plt.show()"
      ],
      "execution_count": 21,
      "outputs": [
        {
          "output_type": "display_data",
          "data": {
            "image/png": "[encoded data removed]",
            "text/plain": [
              "<Figure size 432x288 with 1 Axes>"
            ]
          },
          "metadata": {
            "tags": [],
            "needs_background": "light"
          }
        }
      ]
    },
    {
      "cell_type": "code",
      "metadata": {
        "id": "dEtLVvVwYGls",
        "colab_type": "code",
        "colab": {}
      },
      "source": [
        ""
      ],
      "execution_count": null,
      "outputs": []
    }
  ]
}